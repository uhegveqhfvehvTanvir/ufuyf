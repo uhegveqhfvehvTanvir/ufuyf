{
  "cells": [
    {
      "cell_type": "code",
      "execution_count": null,
      "metadata": {
        "colab": {
          "background_save": true,
          "base_uri": "https://localhost:8080/"
        },
        "id": "LzMWacM1xAvx",
        "outputId": "3ff06f35-7e6b-4e7f-89b7-ad1fc8f0a53e"
      },
      "outputs": [
        {
          "name": "stdout",
          "output_type": "stream",
          "text": [
            "1. The population for 20 years\n",
            "2. Display bar graph of population trend.\n",
            "3. Display the line graph of population trend without extrapolation.\n",
            "Choice: \n"
          ]
        }
      ],
      "source": [
        "import pandas as np\n",
        "import matplotlib.pyplot as np\n",
        "\n",
        "def menu():\n",
        "    print(\"1. The population for 20 years\")\n",
        "    print(\"2. Display bar graph of population trend.\")\n",
        "    print(\"3. Display the line graph of population trend without extrapolation.\")\n",
        "    print(\"Choice: \")\n",
        "\n",
        "def extrapolate ():\n",
        "    year = 2022 + 20\n",
        "    guess = extrapolate (data, year)\n",
        "    print(\"Population in {year}: {guess}.\")\n",
        "\n",
        "def bar_graph():\n",
        "    plt.bar(data['Year'], data['Population'])\n",
        "    plt.xlabel(\"Year\")\n",
        "    plt.ylabel(\"Population\")\n",
        "    plt.title(\"Population Trend\")\n",
        "    plt.show :(\" \")\n",
        "\n",
        "def line_graph():\n",
        "    plt.plot(data['Year'], data['Population'])\n",
        "    plt.xlabel('Year')\n",
        "    plt.ylabel('Population')\n",
        "    plt.title('Population Trend')\n",
        "    plt.show :(\" \")\n",
        "\n",
        "def\n",
        "    while True:\n",
        "        menu()\n",
        "        choice = int(input())\n",
        "\n",
        "        if choice == 1:\n",
        "            extrapolate :(\" \")\n",
        "        elif choice == 2:\n",
        "            bar_graph()\n",
        "        elif choice == 3:\n",
        "            line_graph()\n",
        "        else:\n",
        "            print(\"Choose 1, 2, or 3.\")\n",
        "\n",
        "if __name__ == \"__main__\":\n",
        "    main()\n"
      ]
    },
    {
      "cell_type": "code",
      "execution_count": null,
      "metadata": {
        "id": "KsCSQlBG3C2e"
      },
      "outputs": [],
      "source": []
    }
  ],
  "metadata": {
    "colab": {
      "provenance": []
    },
    "kernelspec": {
      "display_name": "Python 3",
      "name": "python3"
    },
    "language_info": {
      "name": "python"
    }
  },
  "nbformat": 4,
  "nbformat_minor": 0
}